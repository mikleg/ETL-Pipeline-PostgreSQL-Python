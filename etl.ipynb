{
 "cells": [
  {
   "cell_type": "markdown",
   "metadata": {
    "editable": true
   },
   "source": [
    "# ETL Processes"
   ]
  },
  {
   "cell_type": "code",
   "execution_count": 1,
   "metadata": {
    "editable": true
   },
   "outputs": [],
   "source": [
    "import os\n",
    "import glob\n",
    "import psycopg2\n",
    "import pandas as pd\n",
    "import numpy as np\n",
    "import textwrap as tw\n",
    "from sql_queries import *"
   ]
  },
  {
   "cell_type": "code",
   "execution_count": 2,
   "metadata": {
    "editable": true
   },
   "outputs": [],
   "source": [
    "conn = psycopg2.connect(\"host=127.0.0.1 dbname=sparkifydb user=student password=student\")\n",
    "cur = conn.cursor()"
   ]
  },
  {
   "cell_type": "code",
   "execution_count": 3,
   "metadata": {
    "editable": true
   },
   "outputs": [],
   "source": [
    "def get_files(filepath):\n",
    "    all_files = []\n",
    "    for root, dirs, files in os.walk(filepath):\n",
    "        files = glob.glob(os.path.join(root,'*.json'))\n",
    "        for f in files :\n",
    "            all_files.append(os.path.abspath(f))\n",
    "    \n",
    "    return all_files"
   ]
  },
  {
   "cell_type": "markdown",
   "metadata": {
    "editable": true
   },
   "source": [
    "# Process `song_data`\n"
   ]
  },
  {
   "cell_type": "code",
   "execution_count": 4,
   "metadata": {
    "editable": true
   },
   "outputs": [],
   "source": [
    "base_path = os.getcwd()\n",
    "filepath = os.path.join(base_path, 'data', 'song_data')\n",
    "song_files = get_files(filepath)"
   ]
  },
  {
   "cell_type": "markdown",
   "metadata": {
    "editable": true
   },
   "source": [
    "## #1: `songs` Table\n",
    "#### Extract Data for Songs Table"
   ]
  },
  {
   "cell_type": "code",
   "execution_count": 5,
   "metadata": {
    "editable": true
   },
   "outputs": [],
   "source": [
    "# function for reading jsons"
   ]
  },
  {
   "cell_type": "code",
   "execution_count": 6,
   "metadata": {
    "editable": true
   },
   "outputs": [],
   "source": [
    "\n",
    "def read_song_jsons (columns_list, files_list, debug = False):\n",
    "    '''the function reads json file(s) from the files_list and returns a data frame with columns = columns_list'''\n",
    "    data_list = []\n",
    "    j = 0\n",
    "    for a_file in files_list:\n",
    "        json_df = pd.read_json(files_list[j], lines=True, convert_axes=False, dtype=False)\n",
    "        j+=1\n",
    "        for i, row in json_df.iterrows():\n",
    "            data = row[columns_list].values.tolist()\n",
    "            if debug:\n",
    "                print(type(data[0]))\n",
    "            data_list.append(data)   \n",
    "    return(pd.DataFrame(data_list, columns = columns_list))\n",
    "\n",
    "def trim_str(string_to_trim, length):\n",
    "    '''if string_to_trim is a string and the length of it is more than \"length\", the function truncates it to the given length'''\n",
    "    if (isinstance(string_to_trim, str)):\n",
    "        if len(string_to_trim) > length:\n",
    "            return(string_to_trim[:length])\n",
    "        else:\n",
    "            return(string_to_trim)\n",
    "    else:\n",
    "        return(string_to_trim)\n",
    "        \n",
    "\n",
    "def fill_table(dataframe, cursor, connection, q, col_max_length, debug = False):\n",
    "    '''the function inserts data from the \"dataframe\" to the \"cursor\" position of a table. \"col_max_length\" is a list of max length for\\\n",
    "    string data (for non string arguments it's ignored). \"q\" -- SQL query for performing insert '''\n",
    "    for i, row in dataframe.iterrows():\n",
    "        if debug:\n",
    "            print((row))\n",
    "        row_list = row.tolist()    \n",
    "        for index, el in enumerate(row_list):\n",
    "            row_list[index] = trim_str(el, col_max_length[index])\n",
    "        new_row = pd.Series(row_list)\n",
    "        cursor.execute(q, new_row)\n",
    "        connection.commit()\n",
    "    "
   ]
  },
  {
   "cell_type": "code",
   "execution_count": 7,
   "metadata": {
    "editable": true
   },
   "outputs": [
    {
     "data": {
      "text/html": [
       "<div>\n",
       "<style scoped>\n",
       "    .dataframe tbody tr th:only-of-type {\n",
       "        vertical-align: middle;\n",
       "    }\n",
       "\n",
       "    .dataframe tbody tr th {\n",
       "        vertical-align: top;\n",
       "    }\n",
       "\n",
       "    .dataframe thead th {\n",
       "        text-align: right;\n",
       "    }\n",
       "</style>\n",
       "<table border=\"1\" class=\"dataframe\">\n",
       "  <thead>\n",
       "    <tr style=\"text-align: right;\">\n",
       "      <th></th>\n",
       "      <th>song_id</th>\n",
       "      <th>title</th>\n",
       "      <th>duration</th>\n",
       "      <th>year</th>\n",
       "      <th>artist_id</th>\n",
       "    </tr>\n",
       "  </thead>\n",
       "  <tbody>\n",
       "    <tr>\n",
       "      <th>0</th>\n",
       "      <td>SOMZWCG12A8C13C480</td>\n",
       "      <td>I Didn't Mean To</td>\n",
       "      <td>218.93179</td>\n",
       "      <td>0</td>\n",
       "      <td>ARD7TVE1187B99BFB1</td>\n",
       "    </tr>\n",
       "    <tr>\n",
       "      <th>1</th>\n",
       "      <td>SOUDSGM12AC9618304</td>\n",
       "      <td>Insatiable (Instrumental Version)</td>\n",
       "      <td>266.39628</td>\n",
       "      <td>0</td>\n",
       "      <td>ARNTLGG11E2835DDB9</td>\n",
       "    </tr>\n",
       "    <tr>\n",
       "      <th>2</th>\n",
       "      <td>SOIAZJW12AB01853F1</td>\n",
       "      <td>Pink World</td>\n",
       "      <td>269.81832</td>\n",
       "      <td>1984</td>\n",
       "      <td>AR8ZCNI1187B9A069B</td>\n",
       "    </tr>\n",
       "    <tr>\n",
       "      <th>3</th>\n",
       "      <td>SOHKNRJ12A6701D1F8</td>\n",
       "      <td>Drop of Rain</td>\n",
       "      <td>189.57016</td>\n",
       "      <td>0</td>\n",
       "      <td>AR10USD1187B99F3F1</td>\n",
       "    </tr>\n",
       "    <tr>\n",
       "      <th>4</th>\n",
       "      <td>SOCIWDW12A8C13D406</td>\n",
       "      <td>Soul Deep</td>\n",
       "      <td>148.03546</td>\n",
       "      <td>1969</td>\n",
       "      <td>ARMJAGH1187FB546F3</td>\n",
       "    </tr>\n",
       "  </tbody>\n",
       "</table>\n",
       "</div>"
      ],
      "text/plain": [
       "              song_id                              title   duration  year  \\\n",
       "0  SOMZWCG12A8C13C480                   I Didn't Mean To  218.93179     0   \n",
       "1  SOUDSGM12AC9618304  Insatiable (Instrumental Version)  266.39628     0   \n",
       "2  SOIAZJW12AB01853F1                         Pink World  269.81832  1984   \n",
       "3  SOHKNRJ12A6701D1F8                       Drop of Rain  189.57016     0   \n",
       "4  SOCIWDW12A8C13D406                          Soul Deep  148.03546  1969   \n",
       "\n",
       "            artist_id  \n",
       "0  ARD7TVE1187B99BFB1  \n",
       "1  ARNTLGG11E2835DDB9  \n",
       "2  AR8ZCNI1187B9A069B  \n",
       "3  AR10USD1187B99F3F1  \n",
       "4  ARMJAGH1187FB546F3  "
      ]
     },
     "execution_count": 7,
     "metadata": {},
     "output_type": "execute_result"
    }
   ],
   "source": [
    "song_data_df = read_song_jsons(['song_id', 'title', 'duration',  'year','artist_id'], song_files)\n",
    "song_data_df.head(5)"
   ]
  },
  {
   "cell_type": "markdown",
   "metadata": {
    "editable": true
   },
   "source": [
    "#### Insert Record into Song Table"
   ]
  },
  {
   "cell_type": "code",
   "execution_count": 8,
   "metadata": {
    "editable": true
   },
   "outputs": [],
   "source": [
    "max_length = [22, 128, None,  None, 22]\n",
    "fill_table(song_data_df, cur, conn, song_table_insert, max_length)"
   ]
  },
  {
   "cell_type": "markdown",
   "metadata": {
    "editable": true
   },
   "source": [
    "## #2: `artists` Table\n",
    "#### Extract Data for Artists Table"
   ]
  },
  {
   "cell_type": "code",
   "execution_count": 9,
   "metadata": {
    "editable": true
   },
   "outputs": [
    {
     "data": {
      "text/html": [
       "<div>\n",
       "<style scoped>\n",
       "    .dataframe tbody tr th:only-of-type {\n",
       "        vertical-align: middle;\n",
       "    }\n",
       "\n",
       "    .dataframe tbody tr th {\n",
       "        vertical-align: top;\n",
       "    }\n",
       "\n",
       "    .dataframe thead th {\n",
       "        text-align: right;\n",
       "    }\n",
       "</style>\n",
       "<table border=\"1\" class=\"dataframe\">\n",
       "  <thead>\n",
       "    <tr style=\"text-align: right;\">\n",
       "      <th></th>\n",
       "      <th>artist_id</th>\n",
       "      <th>artist_name</th>\n",
       "      <th>artist_latitude</th>\n",
       "      <th>artist_longitude</th>\n",
       "      <th>artist_location</th>\n",
       "    </tr>\n",
       "  </thead>\n",
       "  <tbody>\n",
       "    <tr>\n",
       "      <th>64</th>\n",
       "      <td>AR051KA1187B98B2FF</td>\n",
       "      <td>Wilks</td>\n",
       "      <td>NaN</td>\n",
       "      <td>NaN</td>\n",
       "      <td></td>\n",
       "    </tr>\n",
       "    <tr>\n",
       "      <th>63</th>\n",
       "      <td>AR0IAWL1187B9A96D0</td>\n",
       "      <td>Danilo Perez</td>\n",
       "      <td>8.41770</td>\n",
       "      <td>-80.11278</td>\n",
       "      <td>Panama</td>\n",
       "    </tr>\n",
       "    <tr>\n",
       "      <th>26</th>\n",
       "      <td>AR0RCMP1187FB3F427</td>\n",
       "      <td>Billie Jo Spears</td>\n",
       "      <td>30.08615</td>\n",
       "      <td>-94.10158</td>\n",
       "      <td>Beaumont, TX</td>\n",
       "    </tr>\n",
       "    <tr>\n",
       "      <th>3</th>\n",
       "      <td>AR10USD1187B99F3F1</td>\n",
       "      <td>Tweeterfriendly Music</td>\n",
       "      <td>NaN</td>\n",
       "      <td>NaN</td>\n",
       "      <td>Burlington, Ontario, Canada</td>\n",
       "    </tr>\n",
       "    <tr>\n",
       "      <th>32</th>\n",
       "      <td>AR1Y2PT1187FB5B9CE</td>\n",
       "      <td>John Wesley</td>\n",
       "      <td>27.94017</td>\n",
       "      <td>-82.32547</td>\n",
       "      <td>Brandon</td>\n",
       "    </tr>\n",
       "  </tbody>\n",
       "</table>\n",
       "</div>"
      ],
      "text/plain": [
       "             artist_id            artist_name  artist_latitude  \\\n",
       "64  AR051KA1187B98B2FF                  Wilks              NaN   \n",
       "63  AR0IAWL1187B9A96D0           Danilo Perez          8.41770   \n",
       "26  AR0RCMP1187FB3F427       Billie Jo Spears         30.08615   \n",
       "3   AR10USD1187B99F3F1  Tweeterfriendly Music              NaN   \n",
       "32  AR1Y2PT1187FB5B9CE            John Wesley         27.94017   \n",
       "\n",
       "    artist_longitude              artist_location  \n",
       "64               NaN                               \n",
       "63         -80.11278                       Panama  \n",
       "26         -94.10158                 Beaumont, TX  \n",
       "3                NaN  Burlington, Ontario, Canada  \n",
       "32         -82.32547                      Brandon  "
      ]
     },
     "execution_count": 9,
     "metadata": {},
     "output_type": "execute_result"
    }
   ],
   "source": [
    "artist_data_df = read_song_jsons(['artist_id', 'artist_name', 'artist_latitude','artist_longitude'\\\n",
    "                                  , 'artist_location'], song_files).drop_duplicates(subset ='artist_id')\n",
    "artist_data_df.sort_values(by=['artist_id']).head(5)"
   ]
  },
  {
   "cell_type": "markdown",
   "metadata": {
    "editable": true
   },
   "source": [
    "#### Insert Record into Artist Table"
   ]
  },
  {
   "cell_type": "code",
   "execution_count": 10,
   "metadata": {
    "editable": true
   },
   "outputs": [],
   "source": [
    "max_length = [22, 128, None,  None, 128]\n",
    "fill_table(artist_data_df, cur, conn, artist_table_insert, max_length)"
   ]
  },
  {
   "cell_type": "markdown",
   "metadata": {
    "editable": true
   },
   "source": [
    "# Process `log_data`"
   ]
  },
  {
   "cell_type": "code",
   "execution_count": 11,
   "metadata": {
    "editable": true
   },
   "outputs": [],
   "source": [
    "filepath2 = os.path.join(base_path, 'data', 'log_data')\n",
    "log_files =  get_files(filepath2)\n",
    "columns_log = ['artist', 'auth', 'firstName', 'gender', 'itemInSession', 'lastName', 'length', 'level', 'location', 'method', 'page', 'registration'\\\n",
    "           ,'sessionId', 'song', 'status', 'ts', 'userAgent', 'userId']"
   ]
  },
  {
   "cell_type": "code",
   "execution_count": 12,
   "metadata": {
    "editable": true
   },
   "outputs": [],
   "source": [
    "df = read_song_jsons(columns_log, log_files, debug=False)\n",
    "log_df = df[df['page'] == 'NextSong']"
   ]
  },
  {
   "cell_type": "markdown",
   "metadata": {
    "editable": true
   },
   "source": [
    "## #3: `time` Table\n",
    "#### Extract Data for Time Table"
   ]
  },
  {
   "cell_type": "code",
   "execution_count": 13,
   "metadata": {
    "editable": true
   },
   "outputs": [],
   "source": [
    "time_df = log_df.copy()"
   ]
  },
  {
   "cell_type": "code",
   "execution_count": 14,
   "metadata": {
    "editable": true
   },
   "outputs": [],
   "source": [
    "time_df['timestamp'] = pd.to_datetime(time_df['ts'] , unit='ms')"
   ]
  },
  {
   "cell_type": "code",
   "execution_count": 15,
   "metadata": {
    "editable": true
   },
   "outputs": [],
   "source": [
    "time_df['new_col'] = time_df['timestamp'].apply(lambda row: [row.hour, row.day, row.weekofyear, row.month, row.year, row.dayofweek])"
   ]
  },
  {
   "cell_type": "code",
   "execution_count": 16,
   "metadata": {
    "editable": true
   },
   "outputs": [],
   "source": [
    "time_df[['hour', 'day', 'weekofyear', 'month', 'year', 'dayofweek']]= pd.DataFrame(time_df['new_col'].tolist(), index = time_df.index)"
   ]
  },
  {
   "cell_type": "code",
   "execution_count": 17,
   "metadata": {
    "editable": true
   },
   "outputs": [],
   "source": [
    "columns_time =  ['sessionId', 'itemInSession', 'timestamp', 'hour', 'day', 'weekofyear', 'month', 'year', 'dayofweek']\n",
    "time_df_for_insert = time_df[columns_time]"
   ]
  },
  {
   "cell_type": "markdown",
   "metadata": {
    "editable": true
   },
   "source": [
    "#### Insert Records into Time Table"
   ]
  },
  {
   "cell_type": "code",
   "execution_count": 18,
   "metadata": {
    "editable": true
   },
   "outputs": [],
   "source": [
    "max_length = [None, None, None,  None, None, None, None, None, None]\n",
    "fill_table(time_df_for_insert, cur, conn, time_table_insert, max_length)"
   ]
  },
  {
   "cell_type": "markdown",
   "metadata": {
    "editable": true
   },
   "source": [
    "## #4: `users` Table\n",
    "#### Extract Data for Users Table"
   ]
  },
  {
   "cell_type": "code",
   "execution_count": 19,
   "metadata": {
    "editable": true
   },
   "outputs": [],
   "source": [
    "user_columns = ['userId', 'lastName', 'gender', 'firstName', 'level']"
   ]
  },
  {
   "cell_type": "code",
   "execution_count": 20,
   "metadata": {
    "editable": true
   },
   "outputs": [],
   "source": [
    "user_df = log_df[user_columns].drop_duplicates(subset='userId').copy()"
   ]
  },
  {
   "cell_type": "markdown",
   "metadata": {
    "editable": true
   },
   "source": [
    "#### Insert Records into Users Table"
   ]
  },
  {
   "cell_type": "code",
   "execution_count": 21,
   "metadata": {
    "editable": true
   },
   "outputs": [],
   "source": [
    "max_length = [11, 64, 1,  64, 4]\n",
    "fill_table(user_df, cur, conn, user_table_insert, max_length)"
   ]
  },
  {
   "cell_type": "markdown",
   "metadata": {
    "editable": true
   },
   "source": [
    "## #5: `songplays` Table\n",
    "#### Extract Data and Songplays Table\n",
    "#### Insert Records into Songplays Table"
   ]
  },
  {
   "cell_type": "code",
   "execution_count": 22,
   "metadata": {
    "editable": true
   },
   "outputs": [],
   "source": [
    "play_columns = ['song', 'artist', 'length', 'sessionId', 'location', 'itemInSession', 'userAgent', 'userId', 'level','ts']"
   ]
  },
  {
   "cell_type": "code",
   "execution_count": 23,
   "metadata": {
    "editable": true
   },
   "outputs": [],
   "source": [
    "plays_df = log_df[play_columns].copy()"
   ]
  },
  {
   "cell_type": "code",
   "execution_count": 24,
   "metadata": {
    "editable": true
   },
   "outputs": [],
   "source": [
    "def convert_to_datetime(ms):\n",
    "    df = pd.DataFrame([ms], columns = ['ms'])\n",
    "    df['timestamp'] = pd.to_datetime(df['ms'] , unit='ms')\n",
    "    return (df['timestamp'].iloc[0])"
   ]
  },
  {
   "cell_type": "code",
   "execution_count": 25,
   "metadata": {
    "editable": true
   },
   "outputs": [],
   "source": [
    "for i, row in plays_df.iterrows():\n",
    "    cur.execute(song_select, (row.song, float(str(row.length))))#WORKING!!!!!!!!!!!!\n",
    "    results = cur.fetchone()\n",
    "    if results:\n",
    "        songid, artistid = results\n",
    "    else:\n",
    "        songid, artistid = None,None        \n",
    "    my_dict = row.to_dict()\n",
    "    songplay_data = (trim_str(my_dict.get('userId'), 11), trim_str(songid,22), trim_str(artistid,22), my_dict.get('sessionId')\\\n",
    "                     , trim_str(my_dict.get('location'), 128), trim_str(my_dict.get('userAgent'),192), trim_str(my_dict.get('level'),4), convert_to_datetime(my_dict.get('ts')))\n",
    "    cur.execute(songplay_table_insert, songplay_data)\n",
    "    conn.commit()"
   ]
  },
  {
   "cell_type": "markdown",
   "metadata": {
    "editable": true
   },
   "source": [
    "## Close Connection to Sparkify Database"
   ]
  },
  {
   "cell_type": "code",
   "execution_count": 26,
   "metadata": {
    "editable": true
   },
   "outputs": [],
   "source": [
    "conn.close()"
   ]
  }
 ],
 "metadata": {
  "kernelspec": {
   "display_name": "Python 3",
   "language": "python",
   "name": "python3"
  },
  "language_info": {
   "codemirror_mode": {
    "name": "ipython",
    "version": 3
   },
   "file_extension": ".py",
   "mimetype": "text/x-python",
   "name": "python",
   "nbconvert_exporter": "python",
   "pygments_lexer": "ipython3",
   "version": "3.6.3"
  }
 },
 "nbformat": 4,
 "nbformat_minor": 4
}
